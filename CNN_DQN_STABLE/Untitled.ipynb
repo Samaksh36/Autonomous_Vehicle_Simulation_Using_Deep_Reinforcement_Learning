{
 "cells": [
  {
   "cell_type": "code",
   "execution_count": 2,
   "id": "88746cdf",
   "metadata": {},
   "outputs": [],
   "source": [
    "import matplotlib.pyplot as plt"
   ]
  },
  {
   "cell_type": "code",
   "execution_count": 3,
   "id": "c6946ca7",
   "metadata": {
    "collapsed": true
   },
   "outputs": [
    {
     "data": {
      "text/plain": [
       "array([[[ 0.,  0.,  0., ...,  0.,  0.,  0.],\n",
       "        [ 0.,  0.,  0., ...,  0.,  0.,  0.],\n",
       "        [ 0.,  0.,  0., ...,  0.,  0.,  0.],\n",
       "        ...,\n",
       "        [ 0.,  0.,  0., ...,  0.,  0.,  0.],\n",
       "        [ 0.,  0.,  0., ...,  0.,  0.,  0.],\n",
       "        [ 0.,  0.,  0., ...,  0.,  0.,  0.]],\n",
       "\n",
       "       [[ 0.,  0.,  0., ...,  0.,  0.,  0.],\n",
       "        [ 0.,  0.,  0., ...,  0.,  0.,  0.],\n",
       "        [ 0.,  0.,  0., ...,  0.,  0.,  0.],\n",
       "        ...,\n",
       "        [ 0.,  0.,  0., ...,  0.,  0.,  0.],\n",
       "        [ 0.,  0.,  0., ...,  0.,  0.,  0.],\n",
       "        [ 0.,  0.,  0., ...,  0.,  0.,  0.]],\n",
       "\n",
       "       [[ 0.,  0.,  0., ...,  0.,  0.,  0.],\n",
       "        [ 0.,  0.,  0., ...,  0.,  0.,  0.],\n",
       "        [ 0.,  0.,  0., ...,  0.,  0.,  0.],\n",
       "        ...,\n",
       "        [ 0.,  0.,  0., ...,  0.,  0.,  0.],\n",
       "        [ 0.,  0.,  0., ...,  0.,  0.,  0.],\n",
       "        [ 0.,  0.,  0., ...,  0.,  0.,  0.]],\n",
       "\n",
       "       [[99., 99., 99., ..., 99., 99., 99.],\n",
       "        [99., 99., 99., ..., 99., 99., 99.],\n",
       "        [99., 99., 99., ..., 99., 99., 99.],\n",
       "        ...,\n",
       "        [99., 99., 99., ..., 99., 99., 99.],\n",
       "        [99., 99., 99., ..., 99., 99., 99.],\n",
       "        [99., 99., 99., ..., 99., 99., 99.]]])"
      ]
     },
     "execution_count": 3,
     "metadata": {},
     "output_type": "execute_result"
    }
   ],
   "source": [
    "import gym\n",
    "from stable_baselines3 import DQN\n",
    "\n",
    "import highway_env\n",
    "\n",
    "env = gym.make('highway-v0')\n",
    "env.configure({\n",
    "    \"observation\": {\n",
    "        \"type\": \"GrayscaleObservation\",\n",
    "        \"observation_shape\": (128, 64),\n",
    "        \"stack_size\": 4,\n",
    "        \"weights\": [0.2989, 0.5870, 0.1140],  # weights for RGB conversion\n",
    "        \"scaling\": 1.75,\n",
    "    },\n",
    "})\n",
    "\n",
    "env.config['vehicles_density']=1.2\n",
    "env.reset()\n"
   ]
  },
  {
   "cell_type": "code",
   "execution_count": 4,
   "id": "562794c6",
   "metadata": {},
   "outputs": [],
   "source": [
    "model = DQN.load(\"highway_cnn/model\")"
   ]
  },
  {
   "cell_type": "code",
   "execution_count": 5,
   "id": "8a5c4282",
   "metadata": {
    "scrolled": true
   },
   "outputs": [],
   "source": [
    "# env= train_env()\n",
    "collisions=0\n",
    "\n",
    "for episodes in range(50):\n",
    "    \n",
    "    done= False\n",
    "    obs= env.reset()\n",
    "    \n",
    "    while not done:\n",
    "        env.render()\n",
    "        action,_= model.predict(obs)\n",
    "        action= int(action)      \n",
    "        obs,reward,done,info= env.step(action)\n",
    "        \n",
    "        if(reward<0.1 and done):\n",
    "            collisions += 1\n",
    "\n",
    "        \n",
    "env.close()\n",
    "\n",
    "print(collisions/50)"
   ]
  },
  {
   "cell_type": "code",
   "execution_count": null,
   "id": "9f5efb93",
   "metadata": {},
   "outputs": [],
   "source": [
    "env.close()"
   ]
  }
 ],
 "metadata": {
  "kernelspec": {
   "display_name": "Python 3",
   "language": "python",
   "name": "python3"
  },
  "language_info": {
   "codemirror_mode": {
    "name": "ipython",
    "version": 3
   },
   "file_extension": ".py",
   "mimetype": "text/x-python",
   "name": "python",
   "nbconvert_exporter": "python",
   "pygments_lexer": "ipython3",
   "version": "3.9.5"
  }
 },
 "nbformat": 4,
 "nbformat_minor": 5
}
