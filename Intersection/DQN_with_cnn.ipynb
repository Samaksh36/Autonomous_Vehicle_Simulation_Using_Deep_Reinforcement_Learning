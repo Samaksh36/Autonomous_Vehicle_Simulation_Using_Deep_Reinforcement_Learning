{
 "cells": [
  {
   "cell_type": "code",
   "execution_count": null,
   "metadata": {},
   "outputs": [],
   "source": [
    "# Installing libraries\n",
    "!pip install gym\n",
    "!pip install highway_env\n",
    "!pip install stable_baselines3\n",
    "!pip install stable-baselines==2.7.0"
   ]
  },
  {
   "cell_type": "code",
   "execution_count": null,
   "metadata": {},
   "outputs": [],
   "source": [
    "import highway_env\n",
    "import gym\n",
    "import numpy as np\n",
    "import random\n",
    "\n",
    "import tensorflow as tf\n",
    "from tensorflow import keras\n",
    "from tensorflow.keras import layers\n",
    "\n",
    "from collections import deque\n",
    "\n",
    "\n",
    "from stable_baselines3 import DQN\n",
    "from stable_baselines3.common.vec_env import VecVideoRecorder, DummyVecEnv\n",
    "import warnings\n",
    "warnings.filterwarnings('ignore')\n",
    "\n",
    "import matplotlib.pyplot as plt"
   ]
  },
  {
   "cell_type": "code",
   "execution_count": null,
   "metadata": {},
   "outputs": [],
   "source": [
    "# Configuration paramaters for the whole setup\n",
    "seed = 0\n",
    "gamma = 0.99  # Discount factor for past rewards\n",
    "epsilon = 1.0  # Epsilon greedy parameter\n",
    "episodes = 100 # M\n",
    "steps = 10000"
   ]
  },
  {
   "cell_type": "code",
   "execution_count": null,
   "metadata": {},
   "outputs": [],
   "source": [
    "def train_env():\n",
    "    env = gym.make('intersection-v0')\n",
    "    env.configure({\n",
    "    \"observation\": {\n",
    "    \"type\": \"GrayscaleObservation\",\n",
    "    \"observation_shape\": (128, 64),\n",
    "    \"stack_size\": 4,\n",
    "    \"weights\": [0.2989, 0.5870, 0.1140],  # weights for RGB conversion\n",
    "    \"scaling\": 1.75,\n",
    "            },\n",
    "        })\n",
    "    env.reset()\n",
    "    return env"
   ]
  },
  {
   "cell_type": "code",
   "execution_count": null,
   "metadata": {},
   "outputs": [],
   "source": [
    "def test_env():\n",
    "    env = train_env()\n",
    "    env.configure({\"policy_frequency\": 15, \"duration\": 20 * 15})\n",
    "    env.reset()\n",
    "    return env"
   ]
  },
  {
   "cell_type": "markdown",
   "metadata": {},
   "source": [
    "# Code for training the agent"
   ]
  },
  {
   "cell_type": "code",
   "execution_count": null,
   "metadata": {},
   "outputs": [],
   "source": [
    "env = train_env()"
   ]
  },
  {
   "cell_type": "code",
   "execution_count": null,
   "metadata": {},
   "outputs": [],
   "source": [
    "model = DQN('CnnPolicy', env,\n",
    "                learning_rate=5e-4,\n",
    "                buffer_size=15000,\n",
    "                learning_starts=200,\n",
    "                batch_size=32,\n",
    "                gamma=0.8,\n",
    "                train_freq=1,\n",
    "                gradient_steps=1,\n",
    "                target_update_interval=50,\n",
    "                exploration_fraction=0.7,\n",
    "                verbose=1,\n",
    "                tensorboard_log=\"intersection_cnn/\")\n",
    "\n",
    "model.learn(total_timesteps=int(1e5))\n",
    "model.save(\"DQN_cnn_stable_baselines\")"
   ]
  },
  {
   "cell_type": "markdown",
   "metadata": {},
   "source": [
    "# Code for Loading the Agent"
   ]
  },
  {
   "cell_type": "code",
   "execution_count": null,
   "metadata": {},
   "outputs": [],
   "source": [
    "env = train_env()"
   ]
  },
  {
   "cell_type": "code",
   "execution_count": null,
   "metadata": {},
   "outputs": [],
   "source": [
    "model = DQN.load(\"DQN_cnn_stable_baselines\")"
   ]
  },
  {
   "cell_type": "code",
   "execution_count": null,
   "metadata": {},
   "outputs": [],
   "source": [
    "episode = 0\n",
    "episode_reward = 0\n",
    "episode_rewards = []\n",
    "state = env.reset()\n",
    "while True:\n",
    "    action = model.predict(state, deterministic=True)[0]\n",
    "    next_state, reward, done, info = env.step(action)\n",
    "    env.render()\n",
    "    episode_reward += reward\n",
    "    state = next_state\n",
    "    if done:\n",
    "        episode += 1\n",
    "        episode_rewards.append(episode_reward)\n",
    "        print((\"episode\", episode, \"reward\", episode_reward))\n",
    "        episode_reward = 0\n",
    "        obs = env.reset()\n",
    "    if episode == 100:\n",
    "        break\n",
    "avg_reward = sum(episode_rewards) / len(episode_rewards)\n",
    "print((\"average_reward\", avg_reward))"
   ]
  }
 ],
 "metadata": {
  "kernelspec": {
   "display_name": "Python 3",
   "language": "python",
   "name": "python3"
  },
  "language_info": {
   "codemirror_mode": {
    "name": "ipython",
    "version": 3
   },
   "file_extension": ".py",
   "mimetype": "text/x-python",
   "name": "python",
   "nbconvert_exporter": "python",
   "pygments_lexer": "ipython3",
   "version": "3.8.3"
  }
 },
 "nbformat": 4,
 "nbformat_minor": 4
}
