{
 "cells": [
  {
   "cell_type": "code",
   "execution_count": null,
   "metadata": {},
   "outputs": [],
   "source": [
    "!pip install gym\n",
    "!pip install highway_env"
   ]
  },
  {
   "cell_type": "code",
   "execution_count": 15,
   "metadata": {},
   "outputs": [],
   "source": [
    "import highway_env\n",
    "import gym\n",
    "import numpy as np\n",
    "import random\n",
    "import keras\n",
    "from keras import Model\n",
    "from keras.models import Sequential\n",
    "from keras.layers import Dense, Dropout\n",
    "from tensorflow.keras.optimizers import Adam\n",
    "\n",
    "from collections import deque"
   ]
  },
  {
   "cell_type": "markdown",
   "metadata": {},
   "source": [
    "Dummy RL algorithm\n",
    "class Model:\n",
    "  \"\"\" Dummy code for an RL algorithm, which predicts an action from an observation,\n",
    "  and update its model from observed transitions.\"\"\"\n",
    "\n",
    "  def predict(self, obs):\n",
    "    return 0\n",
    "\n",
    "  def update(self, obs, action, next_obs, reward, info, done):\n",
    "    pass\n",
    "model = Model()"
   ]
  },
  {
   "cell_type": "code",
   "execution_count": 16,
   "metadata": {},
   "outputs": [],
   "source": [
    "class DQN:\n",
    "    def __init__(self, env):\n",
    "        self.env     = env\n",
    "        self.memory  = deque(maxlen=2000)\n",
    "        \n",
    "        self.gamma = 0.95\n",
    "        self.epsilon = 1.0\n",
    "        self.epsilon_min = 0.01\n",
    "        self.epsilon_decay = 0.995\n",
    "        self.learning_rate = 0.01\n",
    "        self.tau = .05\n",
    "        self.model = self.create_model()\n",
    "        self.target_model = self.create_model()\n",
    "        print(self.env.observation_space.shape)\n",
    "        \n",
    "    def create_model(self):\n",
    "        model   = Sequential()\n",
    "        state_shape  = self.env.observation_space.shape\n",
    "        model.add(Dense(128, input_dim=state_shape[1], activation=\"relu\"))\n",
    "        model.add(Dense(128, input_dim=state_shape[1], activation=\"relu\"))\n",
    "        model.add(Dense(64, input_dim=state_shape[1], activation=\"relu\"))\n",
    "        model.add(Dense(32, input_dim=state_shape[1], activation=\"relu\"))\n",
    "        model.add(Dense(self.env.action_space.n, activation=\"linear\"))\n",
    "        model.compile(loss=\"mean_squared_error\", optimizer=Adam(learning_rate=self.learning_rate))\n",
    "        return model\n",
    "    \n",
    "    def remember(self, state, action, reward, new_state, done):\n",
    "        self.memory.append([state, action, reward, new_state, done])\n",
    "    \n",
    "    def replay(self):\n",
    "        batch_size = 32\n",
    "        if len(self.memory) < batch_size: \n",
    "            return\n",
    "        samples = random.sample(self.memory, batch_size)\n",
    "        for sample in samples:\n",
    "            state, action, reward, new_state, done = sample\n",
    "            target = self.target_model.predict(state)\n",
    "            if done:\n",
    "                target[0][action] = reward\n",
    "            else:\n",
    "                Q_future = max(\n",
    "                    self.target_model.predict(new_state)[0])\n",
    "                target[0][action] = reward + Q_future * self.gamma\n",
    "            self.model.fit(state, target, epochs=1, verbose=0)\n",
    "    \n",
    "    def target_train(self):\n",
    "        weights = self.model.get_weights()\n",
    "        target_weights = self.target_model.get_weights()\n",
    "        for i in range(len(target_weights)):\n",
    "            target_weights[i] = weights[i]\n",
    "        self.target_model.set_weights(target_weights)\n",
    "    \n",
    "    def act(self, state):\n",
    "        self.epsilon *= self.epsilon_decay\n",
    "        self.epsilon = max(self.epsilon_min, self.epsilon)\n",
    "        if np.random.random() < self.epsilon:\n",
    "            return self.env.action_space.sample()\n",
    "        return np.argmax(self.model.predict(state)[0])\n",
    "    def save_model(self, fn):\n",
    "        self.model.save(fn)\n",
    "    def load_model(self, fn):\n",
    "        self.model = keras.models.load_model(fn)"
   ]
  },
  {
   "cell_type": "code",
   "execution_count": 17,
   "metadata": {},
   "outputs": [],
   "source": [
    "env = gym.make(\"intersection-v0\")\n",
    "# To increase collision reward\n",
    "# env.configure({\n",
    "#     \"collision_reward\": -3,\n",
    "# })\n",
    "s = env.reset()"
   ]
  },
  {
   "cell_type": "markdown",
   "metadata": {},
   "source": [
    "# Code for Training the agent"
   ]
  },
  {
   "cell_type": "code",
   "execution_count": null,
   "metadata": {},
   "outputs": [],
   "source": [
    "model = DQN(env=env)"
   ]
  },
  {
   "cell_type": "code",
   "execution_count": null,
   "metadata": {
    "scrolled": true
   },
   "outputs": [],
   "source": [
    "state = env.reset()"
   ]
  },
  {
   "cell_type": "code",
   "execution_count": null,
   "metadata": {},
   "outputs": [],
   "source": [
    "step = 0\n",
    "while True and step < 100000:\n",
    "    step += 1\n",
    "    action = model.act(state)\n",
    "    next_state, reward, done, info = env.step(action)\n",
    "    env.render()\n",
    "    print(step)\n",
    "    \n",
    "    model.remember(state, action, reward, next_state, done)\n",
    "    model.replay()\n",
    "    model.target_train()\n",
    "    \n",
    "    state = next_state\n",
    "    if done:\n",
    "        obs = env.reset()"
   ]
  },
  {
   "cell_type": "code",
   "execution_count": null,
   "metadata": {},
   "outputs": [],
   "source": [
    "model.save_model(\"Single_Agent_DQN_Scratch\")"
   ]
  },
  {
   "cell_type": "markdown",
   "metadata": {},
   "source": [
    "# Code for Training the agent"
   ]
  },
  {
   "cell_type": "code",
   "execution_count": 24,
   "metadata": {},
   "outputs": [
    {
     "name": "stdout",
     "output_type": "stream",
     "text": [
      "(15, 7)\n"
     ]
    }
   ],
   "source": [
    "model = DQN(env = env)\n",
    "model.load_model(\"Single_Agent_DQN_Scratch_5000_Increased_Collision_Reward\")"
   ]
  },
  {
   "cell_type": "code",
   "execution_count": 25,
   "metadata": {},
   "outputs": [],
   "source": [
    "state = env.reset()"
   ]
  },
  {
   "cell_type": "code",
   "execution_count": 26,
   "metadata": {
    "scrolled": false
   },
   "outputs": [
    {
     "name": "stdout",
     "output_type": "stream",
     "text": [
      "('episode', 1, 'reward', 1.5498611712131654)\n",
      "('episode', 2, 'reward', -2.4370451147124683)\n",
      "('episode', 3, 'reward', 5.525487108524997)\n",
      "('episode', 4, 'reward', 4.538831303257055)\n",
      "('episode', 5, 'reward', 6.869101635648566)\n",
      "('episode', 6, 'reward', -2.5116602437484765)\n",
      "('episode', 7, 'reward', 9.616017393305233)\n",
      "('episode', 8, 'reward', 8.24232670459421)\n",
      "('episode', 9, 'reward', -1.379585246521927)\n",
      "('episode', 10, 'reward', -1.3187193862696738)\n",
      "('episode', 11, 'reward', 0.038538913300359745)\n",
      "('episode', 12, 'reward', 10.0)\n",
      "('episode', 13, 'reward', -2.3703484906885626)\n",
      "('episode', 14, 'reward', 0.6175077255670267)\n",
      "('episode', 15, 'reward', 5.6163432219928815)\n",
      "('episode', 16, 'reward', 6.087579111093259)\n",
      "('episode', 17, 'reward', -1.3727708302065347)\n",
      "('episode', 18, 'reward', 0.70001307471657)\n",
      "('episode', 19, 'reward', -2.3650567191435607)\n",
      "('episode', 20, 'reward', 6.525826820326285)\n",
      "('episode', 21, 'reward', -0.38116369941996364)\n",
      "('episode', 22, 'reward', 7.540869946963048)\n",
      "('episode', 23, 'reward', 0.0)\n",
      "('episode', 24, 'reward', 8.0)\n",
      "('episode', 25, 'reward', 0.0)\n",
      "('episode', 26, 'reward', 0.0)\n",
      "('episode', 27, 'reward', 0.0)\n",
      "('episode', 28, 'reward', 0.70001307471657)\n",
      "('episode', 29, 'reward', 10.0)\n",
      "('episode', 30, 'reward', 0.0)\n",
      "('episode', 31, 'reward', 8.616025321959096)\n",
      "('episode', 32, 'reward', 8.61564537938706)\n",
      "('episode', 33, 'reward', 0.0)\n",
      "('episode', 34, 'reward', -5.0)\n",
      "('episode', 35, 'reward', 10.0)\n",
      "('episode', 36, 'reward', 0.15868108154168592)\n",
      "('episode', 37, 'reward', 0.15868108154168592)\n",
      "('episode', 38, 'reward', 0.0)\n",
      "('episode', 39, 'reward', 0.0)\n",
      "('episode', 40, 'reward', 1.0)\n",
      "('episode', 41, 'reward', 0.0)\n",
      "('episode', 42, 'reward', 0.0)\n",
      "('episode', 43, 'reward', 8.681207808883048)\n",
      "('episode', 44, 'reward', 0.0)\n",
      "('episode', 45, 'reward', 0.0)\n",
      "('episode', 46, 'reward', 1.0)\n",
      "('episode', 47, 'reward', 10.0)\n",
      "('episode', 48, 'reward', 4.7704452876023815)\n",
      "('episode', 49, 'reward', 10.0)\n",
      "('episode', 50, 'reward', 0.0)\n",
      "('episode', 51, 'reward', -0.3820680009173332)\n",
      "('episode', 52, 'reward', 0.0)\n",
      "('episode', 53, 'reward', -2.676483789035384)\n",
      "('episode', 54, 'reward', 1.0)\n",
      "('episode', 55, 'reward', 9.0)\n",
      "('episode', 56, 'reward', 10.0)\n",
      "('episode', 57, 'reward', 0.0)\n",
      "('episode', 58, 'reward', 9.0)\n",
      "('episode', 59, 'reward', 1.4200023460309952)\n",
      "('episode', 60, 'reward', 9.0)\n",
      "('episode', 61, 'reward', 0.0)\n",
      "('episode', 62, 'reward', 10.0)\n",
      "('episode', 63, 'reward', 9.0)\n",
      "('episode', 64, 'reward', 0.4200137284523979)\n",
      "('episode', 65, 'reward', 9.0)\n",
      "('episode', 66, 'reward', 0.0)\n",
      "('episode', 67, 'reward', 0.0)\n",
      "('episode', 68, 'reward', 0.0)\n",
      "('episode', 69, 'reward', 10.0)\n",
      "('episode', 70, 'reward', 9.0)\n",
      "('episode', 71, 'reward', 0.0)\n",
      "('episode', 72, 'reward', 0.0)\n",
      "('episode', 73, 'reward', -0.3187798011471088)\n",
      "('episode', 74, 'reward', 0.0)\n",
      "('episode', 75, 'reward', 1.0)\n",
      "('episode', 76, 'reward', 10.0)\n",
      "('episode', 77, 'reward', 1.0)\n",
      "('episode', 78, 'reward', 3.0)\n",
      "('episode', 79, 'reward', 0.0)\n",
      "('episode', 80, 'reward', 1.0)\n",
      "('episode', 81, 'reward', 1.0)\n",
      "('episode', 82, 'reward', 1.0)\n",
      "('episode', 83, 'reward', 10.0)\n",
      "('episode', 84, 'reward', 11.0)\n",
      "('episode', 85, 'reward', 1.0)\n",
      "('episode', 86, 'reward', 9.0)\n",
      "('episode', 87, 'reward', 10.0)\n",
      "('episode', 88, 'reward', 0.0)\n",
      "('episode', 89, 'reward', 9.0)\n",
      "('episode', 90, 'reward', -1.0)\n",
      "('episode', 91, 'reward', 9.0)\n",
      "('episode', 92, 'reward', 10.0)\n",
      "('episode', 93, 'reward', 0.0)\n",
      "('episode', 94, 'reward', 0.0)\n",
      "('episode', 95, 'reward', 1.0)\n",
      "('episode', 96, 'reward', 0.0)\n",
      "('episode', 97, 'reward', 0.6185665615508515)\n",
      "('episode', 98, 'reward', 10.0)\n",
      "('episode', 99, 'reward', -5.0)\n",
      "('episode', 100, 'reward', -0.5799196641452298)\n",
      "('average_reward', 3.115339848162122)\n"
     ]
    }
   ],
   "source": [
    "episode = 0\n",
    "episode_reward = 0\n",
    "episode_rewards = []\n",
    "while True:\n",
    "    action = model.act(state)\n",
    "    next_state, reward, done, info = env.step(action)\n",
    "    env.render()\n",
    "    episode_reward += reward\n",
    "    state = next_state\n",
    "    if done:\n",
    "        episode += 1\n",
    "        episode_rewards.append(episode_reward)\n",
    "        print((\"episode\", episode, \"reward\", episode_reward))\n",
    "        episode_reward = 0\n",
    "        obs = env.reset()\n",
    "    if episode == 100:\n",
    "        break\n",
    "avg_reward = sum(episode_rewards) / len(episode_rewards)\n",
    "print((\"average_reward\", avg_reward))"
   ]
  },
  {
   "cell_type": "code",
   "execution_count": 22,
   "metadata": {},
   "outputs": [],
   "source": [
    "env.close()"
   ]
  },
  {
   "cell_type": "code",
   "execution_count": null,
   "metadata": {},
   "outputs": [],
   "source": []
  }
 ],
 "metadata": {
  "kernelspec": {
   "display_name": "Python 3",
   "language": "python",
   "name": "python3"
  },
  "language_info": {
   "codemirror_mode": {
    "name": "ipython",
    "version": 3
   },
   "file_extension": ".py",
   "mimetype": "text/x-python",
   "name": "python",
   "nbconvert_exporter": "python",
   "pygments_lexer": "ipython3",
   "version": "3.8.3"
  }
 },
 "nbformat": 4,
 "nbformat_minor": 4
}
